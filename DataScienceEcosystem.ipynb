{
 "cells": [
  {
   "cell_type": "markdown",
   "id": "b7c1c9f8-c124-4eb1-8e13-a631d34e698c",
   "metadata": {},
   "source": [
    "# Data Science Tools and Ecosystem"
   ]
  },
  {
   "cell_type": "markdown",
   "id": "5c215eb4-e49a-4e4f-aec4-569fb0f10ef0",
   "metadata": {},
   "source": [
    "## Author:\n",
    "Mukundan Kuthalam"
   ]
  },
  {
   "cell_type": "markdown",
   "id": "6012c06b-0869-4e75-8494-b6c0c58f568d",
   "metadata": {},
   "source": [
    "In this notebook, Data Science Tools and Ecosystem are summarized."
   ]
  },
  {
   "cell_type": "markdown",
   "id": "af858c4d-cfda-44fa-a0ae-71d9fb2c3d6e",
   "metadata": {},
   "source": [
    "**Objectives**\n",
    "- List popular languages for Data Science\n",
    "- List commonly used libraries for Data Science\n",
    "- List popular open-source tools for Data Science\n",
    "- Demonstrate arithmetic expressions with a couple of examples"
   ]
  },
  {
   "cell_type": "markdown",
   "id": "ea7e1fcc-4dd8-48a1-9e3e-31fc1a355e3e",
   "metadata": {},
   "source": [
    "Some of the popular languages that Data Scientists use are:\n",
    "1. Python\n",
    "2. SQL\n",
    "3. R"
   ]
  },
  {
   "cell_type": "markdown",
   "id": "93b520ee-c5e7-4fe8-9378-4c47435a27b7",
   "metadata": {},
   "source": [
    "Some of the commonly used libraries used by Data Scientists include:\n",
    "1. Numpy\n",
    "2. Pandas\n",
    "3. Seaborn\n",
    "4. Matplotlib"
   ]
  },
  {
   "cell_type": "markdown",
   "id": "789b9a0a-eed1-40e7-aa46-bcf6b5a6eecb",
   "metadata": {},
   "source": [
    "| Data Science Tools |\n",
    "| ------------------ |\n",
    "| ElasticSearch |\n",
    "| Apache Spark |\n",
    "| MySQL |"
   ]
  },
  {
   "cell_type": "markdown",
   "id": "1da7affe-3173-4992-a33f-b7860d88c7e6",
   "metadata": {},
   "source": [
    "### Below are a few examples of evaluating arithmetic expressions in Python:"
   ]
  },
  {
   "cell_type": "code",
   "execution_count": 2,
   "id": "80d3f914-2e45-47f2-ae76-8efaa792b9ea",
   "metadata": {},
   "outputs": [
    {
     "data": {
      "text/plain": [
       "17"
      ]
     },
     "execution_count": 2,
     "metadata": {},
     "output_type": "execute_result"
    }
   ],
   "source": [
    "# This is a simple arithmetic expression to multiply then add integers\n",
    "(3*4)+5"
   ]
  },
  {
   "cell_type": "code",
   "execution_count": 8,
   "id": "3ad17a8b-0257-4b5e-8448-04a0381a5450",
   "metadata": {},
   "outputs": [
    {
     "name": "stdout",
     "output_type": "stream",
     "text": [
      "3.3333333333333335 hours\n"
     ]
    }
   ],
   "source": [
    "# This will convert 200 minutes to hours by dividing by 60\n",
    "print(str(200/60) + \" hours\")"
   ]
  },
  {
   "cell_type": "code",
   "execution_count": null,
   "id": "69a10cde-96f3-4105-8abf-829e9393fed2",
   "metadata": {},
   "outputs": [],
   "source": []
  }
 ],
 "metadata": {
  "kernelspec": {
   "display_name": "Python 3 (ipykernel)",
   "language": "python",
   "name": "python3"
  },
  "language_info": {
   "codemirror_mode": {
    "name": "ipython",
    "version": 3
   },
   "file_extension": ".py",
   "mimetype": "text/x-python",
   "name": "python",
   "nbconvert_exporter": "python",
   "pygments_lexer": "ipython3",
   "version": "3.12.4"
  }
 },
 "nbformat": 4,
 "nbformat_minor": 5
}
